{
 "cells": [
  {
   "cell_type": "code",
   "execution_count": 3,
   "metadata": {},
   "outputs": [],
   "source": [
    "# BEAUTIFULSOUP\n",
    "from bs4 import BeautifulSoup\n",
    "\n",
    "# SELENIUM\n",
    "from selenium import webdriver\n",
    "from selenium.webdriver.common.by import By\n",
    "from selenium.webdriver.chrome.service import Service\n",
    "from selenium.webdriver.support.select import Select\n",
    "\n",
    "# MISCELLANEOUS\n",
    "import csv\n",
    "import time"
   ]
  },
  {
   "cell_type": "code",
   "execution_count": 5,
   "metadata": {},
   "outputs": [],
   "source": [
    "# CONFIGURING SELENIUM ---\n",
    "PATH = 'C:\\SeleniumDrivers\\chromedriver.exe' # replace this with your selenium driver path\n",
    "serv_obj = Service(executable_path=PATH) \n",
    "driver = webdriver.Chrome(service=serv_obj)\n",
    "\n",
    "# OPENING A NEW CHROME PROFILE ---\n",
    "driver.get('http://www.bom.gov.au/climate/data/index.shtml?bookmark=193')\n",
    "driver.maximize_window()\n",
    "driver.implicitly_wait(10)"
   ]
  },
  {
   "attachments": {},
   "cell_type": "markdown",
   "metadata": {},
   "source": [
    "### Option 1: Select Your Area Of Interest"
   ]
  },
  {
   "cell_type": "code",
   "execution_count": 6,
   "metadata": {},
   "outputs": [],
   "source": [
    "# ENTER YOUR AREA OF INTEREST ---\n",
    "area = 'armidale' # change this with your area name\n",
    "driver.find_element(By.XPATH, \"//div[@class='line']//input[@id='p_locSearch']\").send_keys(area) \n",
    "driver.find_element(By.XPATH, \"//input[@id='text']\").click()\n",
    "time.sleep(2) # comment out if running one cell at a time"
   ]
  },
  {
   "cell_type": "code",
   "execution_count": 7,
   "metadata": {},
   "outputs": [
    {
     "name": "stdout",
     "output_type": "stream",
     "text": [
      "There are 2 town(s) is the area Armidale:\n",
      "\n",
      "0 Armidale, NSW, 30.52°S, 151.67°E\n",
      "1 West Armidale, NSW, 30.51°S, 151.65°E\n"
     ]
    }
   ],
   "source": [
    "# ALL THE TOWNS IN THAT AREA ---\n",
    "towns = driver.find_elements(By.XPATH, \"//div[@id='Matching']//select[@id='matchList']/option\")\n",
    "ntowns = len(towns)\n",
    "print(f'There are {ntowns} town(s) is the area {area.capitalize()}:', end='\\n\\n')\n",
    "\n",
    "for i in range(1, ntowns+1):\n",
    "    town = driver.find_element(By.XPATH, f\"//div[@id='Matching']//select[@id='matchList']/option[{i}]\").text\n",
    "    print(i-1, town)"
   ]
  },
  {
   "cell_type": "code",
   "execution_count": 8,
   "metadata": {},
   "outputs": [],
   "source": [
    "# SELECTING A PARTICULAR TOWN ---\n",
    "select_box = driver.find_element(By.XPATH, \"//div[@id='Matching']//select[@id='matchList']\")\n",
    "town_list = Select(select_box)\n",
    "town_list.select_by_index(\"0\")\n",
    "\n",
    "# Or Select by name -\n",
    "# town = 'Armidale, NSW, 30.52°S, 151.67°E' # paste your town here\n",
    "# town_list.select_by_visible_text(town)\n",
    "\n",
    "time.sleep(2) # comment out if running one cell at a time"
   ]
  },
  {
   "cell_type": "code",
   "execution_count": 9,
   "metadata": {},
   "outputs": [
    {
     "name": "stdout",
     "output_type": "stream",
     "text": [
      "There are 9 station(s) is the town West Armidale, NSW, 30.51°S, 151.65°E:\n",
      "\n",
      "0 056037 Armidale (Tree Group Nursery) NSW (0.5km away)\n",
      "1 056238 Armidale Airport AWS NSW (5.2km away)\n",
      "2 056034 Uralla (Dumaresq St) NSW (21.9km away)\n",
      "3 056240 Guyra (Box Point) NSW (21.9km away)\n",
      "4 056065 Uralla (Mihi) NSW (22.2km away)\n",
      "5 057091 Uralla (Blue Nobby) NSW (27.9km away)\n",
      "6 056028 Uralla (Salisbury Court) NSW (28.1km away)\n",
      "7 056016 Guyra Post Office NSW (33.1km away)\n",
      "8 056229 Guyra Hospital NSW (34.0km away)\n"
     ]
    }
   ],
   "source": [
    "# ALL THE STATIONS IN THAT TOWN ---\n",
    "stations = driver.find_elements(By.XPATH, \"//form[@id='nearestForm']//select[@id='nearest10']/option\")\n",
    "nstations = len(stations)\n",
    "print(f'There are {nstations} station(s) is the town {town}:', end='\\n\\n')\n",
    "\n",
    "for i in range(1, nstations+1):\n",
    "    station = driver.find_element(By.XPATH, f\"//form[@id='nearestForm']//select[@id='nearest10']/option[{i}]\").text\n",
    "    print(i-1, station)"
   ]
  },
  {
   "cell_type": "code",
   "execution_count": 10,
   "metadata": {},
   "outputs": [],
   "source": [
    "# SELECTING A STATION ---\n",
    "select_box = driver.find_element(By.XPATH, \"//form[@id='nearestForm']//select[@id='nearest10']\")\n",
    "station_list = Select(select_box)\n",
    "station_list.select_by_index('0')\n",
    "\n",
    "# Or Select by name -\n",
    "# station = '056037 Armidale (Tree Group Nursery) NSW (0.5km away)' # paste your station here\n",
    "# station_list.select_by_visible_text(station)"
   ]
  },
  {
   "cell_type": "code",
   "execution_count": 11,
   "metadata": {},
   "outputs": [],
   "source": [
    "# GETTING THE TABLE ---\n",
    "time.sleep(2)\n",
    "driver.find_element(By.XPATH, \"//input[@id='getData']\").click()"
   ]
  },
  {
   "attachments": {},
   "cell_type": "markdown",
   "metadata": {},
   "source": [
    "***"
   ]
  },
  {
   "attachments": {},
   "cell_type": "markdown",
   "metadata": {},
   "source": [
    "### Option 2: Directly Enter Station Number"
   ]
  },
  {
   "cell_type": "code",
   "execution_count": 21,
   "metadata": {},
   "outputs": [],
   "source": [
    "# ENTER THE STATION NUMBER ---\n",
    "driver.find_element(By.XPATH, \"//input[@id='p_stn_num']\").send_keys(\"056037\") # here\n",
    "driver.find_element(By.XPATH, \"//input[@id='getData']\").click()"
   ]
  },
  {
   "attachments": {},
   "cell_type": "markdown",
   "metadata": {},
   "source": [
    "###"
   ]
  },
  {
   "attachments": {},
   "cell_type": "markdown",
   "metadata": {},
   "source": [
    "***"
   ]
  },
  {
   "cell_type": "code",
   "execution_count": 12,
   "metadata": {},
   "outputs": [],
   "source": [
    "# SWITCHING TABS ---\n",
    "# time.sleep(2) # uncomment in case of traceback\n",
    "winids = driver.window_handles\n",
    "driver.switch_to.window(winids[1])\n",
    "\n",
    "# GETTING THE HTML ---\n",
    "soup = BeautifulSoup(driver.page_source, \"lxml\")\n",
    "# print(soup.prettify())\n",
    "\n",
    "driver.minimize_window()"
   ]
  },
  {
   "cell_type": "code",
   "execution_count": 13,
   "metadata": {},
   "outputs": [
    {
     "data": {
      "text/plain": [
       "56"
      ]
     },
     "execution_count": 13,
     "metadata": {},
     "output_type": "execute_result"
    }
   ],
   "source": [
    "# CREATING A CSV FILE ---\n",
    "csv_file = open(f\"weather_report_{area.capitalize()}.csv\", \"w\", newline=\"\", encoding=\"utf-8\")\n",
    "csv_writer = csv.writer(csv_file)\n",
    "\n",
    "columns = ['2023','Jan','Feb','Mar','Apr','May','June','July','Aug','Sep','Oct','Nov','Dec']\n",
    "csv_writer.writerow(columns)"
   ]
  },
  {
   "cell_type": "code",
   "execution_count": 14,
   "metadata": {},
   "outputs": [],
   "source": [
    "# DAILY GLOBAL SOLAR EXPOSURE TABLE ---\n",
    "rows = soup.select('tbody>tr')\n",
    "for i, row in enumerate(rows):\n",
    "    if i != 0:\n",
    "        csv_writer.writerow([\n",
    "            row.th.text,\n",
    "            row.select('td')[0].text,\n",
    "            row.select('td')[1].text,\n",
    "            row.select('td')[2].text,\n",
    "            row.select('td')[3].text,\n",
    "            row.select('td')[4].text,\n",
    "            row.select('td')[5].text,\n",
    "            row.select('td')[6].text,\n",
    "            row.select('td')[7].text,\n",
    "            row.select('td')[8].text,\n",
    "            row.select('td')[9].text,\n",
    "            row.select('td')[10].text,\n",
    "            row.select('td')[11].text\n",
    "        ])\n",
    "csv_file.close()\n",
    "driver.quit()"
   ]
  }
 ],
 "metadata": {
  "kernelspec": {
   "display_name": "Python 3 (ipykernel)",
   "language": "python",
   "name": "python3"
  },
  "language_info": {
   "codemirror_mode": {
    "name": "ipython",
    "version": 3
   },
   "file_extension": ".py",
   "mimetype": "text/x-python",
   "name": "python",
   "nbconvert_exporter": "python",
   "pygments_lexer": "ipython3",
   "version": "3.11.0"
  },
  "vscode": {
   "interpreter": {
    "hash": "b98f472bb8ba48098397e3b897b5be76f7bf0e62d98845cdb0e8066dc5677259"
   }
  }
 },
 "nbformat": 4,
 "nbformat_minor": 4
}
